{
 "cells": [
  {
   "cell_type": "code",
   "execution_count": 1,
   "id": "43757e69",
   "metadata": {},
   "outputs": [],
   "source": [
    "import numpy as np "
   ]
  },
  {
   "cell_type": "code",
   "execution_count": 2,
   "id": "73debe7f",
   "metadata": {},
   "outputs": [],
   "source": [
    "import pandas as pd"
   ]
  },
  {
   "cell_type": "code",
   "execution_count": 14,
   "id": "1f4973ec",
   "metadata": {},
   "outputs": [],
   "source": [
    "customer_data = ['costno','firstname','lastname','gender','age','profession','contactNo',\n",
    "'emailId','city','state','isActive','createdDate','UpdatedDate']\n",
    "product_data = ['productno','productName','Description','isActive','createdDate','UpdatedDate']\n",
    "transactions_data = ['txnno','txndate','custno','amount','productno','spendby']\n"
   ]
  },
  {
   "cell_type": "code",
   "execution_count": 15,
   "id": "da694829",
   "metadata": {},
   "outputs": [],
   "source": [
    "\n",
    "df_cust = pd.read_csv('C:\\\\Users\\\\Dell\\\\Downloads\\\\customers.csv',names=customer_list)"
   ]
  },
  {
   "cell_type": "code",
   "execution_count": 16,
   "id": "4a90293f",
   "metadata": {},
   "outputs": [],
   "source": [
    "df_prod = pd.read_csv('C:\\\\Users\\\\Dell\\\\Downloads\\\\products.csv',names=product_list)"
   ]
  },
  {
   "cell_type": "code",
   "execution_count": 17,
   "id": "8403680d",
   "metadata": {},
   "outputs": [],
   "source": [
    "df_tran = pd.read_csv('C:\\\\Users\\Dell\\\\Downloads\\\\transactions.csv',names=transactions_list)"
   ]
  },
  {
   "cell_type": "markdown",
   "id": "91405ef4",
   "metadata": {},
   "source": [
    "### Usecase-1 Load all three csv datasets in Pandas Data frames and display first 5 records."
   ]
  },
  {
   "cell_type": "code",
   "execution_count": 7,
   "id": "7de9b52a",
   "metadata": {},
   "outputs": [
    {
     "data": {
      "text/html": [
       "<div>\n",
       "<style scoped>\n",
       "    .dataframe tbody tr th:only-of-type {\n",
       "        vertical-align: middle;\n",
       "    }\n",
       "\n",
       "    .dataframe tbody tr th {\n",
       "        vertical-align: top;\n",
       "    }\n",
       "\n",
       "    .dataframe thead th {\n",
       "        text-align: right;\n",
       "    }\n",
       "</style>\n",
       "<table border=\"1\" class=\"dataframe\">\n",
       "  <thead>\n",
       "    <tr style=\"text-align: right;\">\n",
       "      <th></th>\n",
       "      <th>costno</th>\n",
       "      <th>firstname</th>\n",
       "      <th>lastname</th>\n",
       "      <th>gender</th>\n",
       "      <th>age</th>\n",
       "      <th>profession</th>\n",
       "      <th>contactNo</th>\n",
       "      <th>emailId</th>\n",
       "      <th>city</th>\n",
       "      <th>state</th>\n",
       "      <th>isActive</th>\n",
       "      <th>createdDate</th>\n",
       "      <th>UpdatedDate</th>\n",
       "    </tr>\n",
       "  </thead>\n",
       "  <tbody>\n",
       "    <tr>\n",
       "      <th>0</th>\n",
       "      <td>1</td>\n",
       "      <td>Leslie</td>\n",
       "      <td>Bass</td>\n",
       "      <td>F</td>\n",
       "      <td>27</td>\n",
       "      <td>B</td>\n",
       "      <td>37307</td>\n",
       "      <td>endslost@everyma1l.org</td>\n",
       "      <td>Gibson</td>\n",
       "      <td>Dellwood</td>\n",
       "      <td>Y</td>\n",
       "      <td>2017-09-21 12:38:22</td>\n",
       "      <td>2017-10-18 12:12:28</td>\n",
       "    </tr>\n",
       "    <tr>\n",
       "      <th>1</th>\n",
       "      <td>2</td>\n",
       "      <td>Judy</td>\n",
       "      <td>Burks</td>\n",
       "      <td>M</td>\n",
       "      <td>53</td>\n",
       "      <td>S</td>\n",
       "      <td>84759</td>\n",
       "      <td>rfleming@hotma1l.co.uk</td>\n",
       "      <td>Suwanee</td>\n",
       "      <td>Trabue</td>\n",
       "      <td>Y</td>\n",
       "      <td>2017-05-22 05:29:22</td>\n",
       "      <td>2017-10-18 12:12:28</td>\n",
       "    </tr>\n",
       "    <tr>\n",
       "      <th>2</th>\n",
       "      <td>3</td>\n",
       "      <td>Marsha</td>\n",
       "      <td>Doyle</td>\n",
       "      <td>F</td>\n",
       "      <td>48</td>\n",
       "      <td>B</td>\n",
       "      <td>80932</td>\n",
       "      <td>arethe53@ma1lbox.net</td>\n",
       "      <td>Perry</td>\n",
       "      <td>Moxadarla</td>\n",
       "      <td>Y</td>\n",
       "      <td>2017-09-03 12:11:29</td>\n",
       "      <td>2017-10-18 12:12:28</td>\n",
       "    </tr>\n",
       "    <tr>\n",
       "      <th>3</th>\n",
       "      <td>4</td>\n",
       "      <td>Alexis</td>\n",
       "      <td>Battle</td>\n",
       "      <td>M</td>\n",
       "      <td>27</td>\n",
       "      <td>S</td>\n",
       "      <td>71701</td>\n",
       "      <td>ofcame@ma1lbox.org</td>\n",
       "      <td>Morven</td>\n",
       "      <td>Dennis</td>\n",
       "      <td>Y</td>\n",
       "      <td>2017-02-16 04:05:35</td>\n",
       "      <td>2017-10-18 12:12:28</td>\n",
       "    </tr>\n",
       "    <tr>\n",
       "      <th>4</th>\n",
       "      <td>5</td>\n",
       "      <td>Martha</td>\n",
       "      <td>Combs</td>\n",
       "      <td>F</td>\n",
       "      <td>49</td>\n",
       "      <td>B</td>\n",
       "      <td>83947</td>\n",
       "      <td>camedied@everyma1l.us</td>\n",
       "      <td>Ocilla</td>\n",
       "      <td>Greenwood</td>\n",
       "      <td>Y</td>\n",
       "      <td>2017-05-15 07:34:35</td>\n",
       "      <td>2017-10-18 12:12:28</td>\n",
       "    </tr>\n",
       "  </tbody>\n",
       "</table>\n",
       "</div>"
      ],
      "text/plain": [
       "   costno firstname lastname gender  age profession  contactNo  \\\n",
       "0       1    Leslie     Bass      F   27          B      37307   \n",
       "1       2      Judy    Burks      M   53          S      84759   \n",
       "2       3    Marsha    Doyle      F   48          B      80932   \n",
       "3       4    Alexis   Battle      M   27          S      71701   \n",
       "4       5    Martha    Combs      F   49          B      83947   \n",
       "\n",
       "                  emailId     city      state isActive          createdDate  \\\n",
       "0  endslost@everyma1l.org   Gibson   Dellwood        Y  2017-09-21 12:38:22   \n",
       "1  rfleming@hotma1l.co.uk  Suwanee     Trabue        Y  2017-05-22 05:29:22   \n",
       "2    arethe53@ma1lbox.net    Perry  Moxadarla        Y  2017-09-03 12:11:29   \n",
       "3      ofcame@ma1lbox.org   Morven     Dennis        Y  2017-02-16 04:05:35   \n",
       "4   camedied@everyma1l.us   Ocilla  Greenwood        Y  2017-05-15 07:34:35   \n",
       "\n",
       "           UpdatedDate  \n",
       "0  2017-10-18 12:12:28  \n",
       "1  2017-10-18 12:12:28  \n",
       "2  2017-10-18 12:12:28  \n",
       "3  2017-10-18 12:12:28  \n",
       "4  2017-10-18 12:12:28  "
      ]
     },
     "execution_count": 7,
     "metadata": {},
     "output_type": "execute_result"
    }
   ],
   "source": [
    "df_cust.head()"
   ]
  },
  {
   "cell_type": "code",
   "execution_count": 19,
   "id": "5495f6cb",
   "metadata": {
    "scrolled": true
   },
   "outputs": [
    {
     "data": {
      "text/html": [
       "<div>\n",
       "<style scoped>\n",
       "    .dataframe tbody tr th:only-of-type {\n",
       "        vertical-align: middle;\n",
       "    }\n",
       "\n",
       "    .dataframe tbody tr th {\n",
       "        vertical-align: top;\n",
       "    }\n",
       "\n",
       "    .dataframe thead th {\n",
       "        text-align: right;\n",
       "    }\n",
       "</style>\n",
       "<table border=\"1\" class=\"dataframe\">\n",
       "  <thead>\n",
       "    <tr style=\"text-align: right;\">\n",
       "      <th></th>\n",
       "      <th>productno</th>\n",
       "      <th>productName</th>\n",
       "      <th>Description</th>\n",
       "      <th>isActive</th>\n",
       "      <th>createdDate</th>\n",
       "      <th>UpdatedDate</th>\n",
       "    </tr>\n",
       "  </thead>\n",
       "  <tbody>\n",
       "    <tr>\n",
       "      <th>0</th>\n",
       "      <td>1</td>\n",
       "      <td>Product1</td>\n",
       "      <td>pgqorighfa</td>\n",
       "      <td>Y</td>\n",
       "      <td>2017-04-03 07:58:55</td>\n",
       "      <td>2017-10-18 12:12:38</td>\n",
       "    </tr>\n",
       "    <tr>\n",
       "      <th>1</th>\n",
       "      <td>2</td>\n",
       "      <td>Product2</td>\n",
       "      <td>lmndaaweth</td>\n",
       "      <td>Y</td>\n",
       "      <td>2017-09-21 12:38:31</td>\n",
       "      <td>2017-10-18 12:12:38</td>\n",
       "    </tr>\n",
       "    <tr>\n",
       "      <th>2</th>\n",
       "      <td>3</td>\n",
       "      <td>Product3</td>\n",
       "      <td>urifeubrhh</td>\n",
       "      <td>Y</td>\n",
       "      <td>2017-09-08 10:32:12</td>\n",
       "      <td>2017-10-18 12:12:38</td>\n",
       "    </tr>\n",
       "    <tr>\n",
       "      <th>3</th>\n",
       "      <td>4</td>\n",
       "      <td>Product4</td>\n",
       "      <td>rlpcjxfarp</td>\n",
       "      <td>Y</td>\n",
       "      <td>2017-05-22 05:29:27</td>\n",
       "      <td>2017-10-18 12:12:38</td>\n",
       "    </tr>\n",
       "    <tr>\n",
       "      <th>4</th>\n",
       "      <td>5</td>\n",
       "      <td>Product5</td>\n",
       "      <td>hzcpozsgfc</td>\n",
       "      <td>Y</td>\n",
       "      <td>2017-02-02 08:40:29</td>\n",
       "      <td>2017-10-18 12:12:38</td>\n",
       "    </tr>\n",
       "  </tbody>\n",
       "</table>\n",
       "</div>"
      ],
      "text/plain": [
       "   productno productName Description isActive          createdDate  \\\n",
       "0          1    Product1  pgqorighfa        Y  2017-04-03 07:58:55   \n",
       "1          2    Product2  lmndaaweth        Y  2017-09-21 12:38:31   \n",
       "2          3    Product3  urifeubrhh        Y  2017-09-08 10:32:12   \n",
       "3          4    Product4  rlpcjxfarp        Y  2017-05-22 05:29:27   \n",
       "4          5    Product5  hzcpozsgfc        Y  2017-02-02 08:40:29   \n",
       "\n",
       "           UpdatedDate  \n",
       "0  2017-10-18 12:12:38  \n",
       "1  2017-10-18 12:12:38  \n",
       "2  2017-10-18 12:12:38  \n",
       "3  2017-10-18 12:12:38  \n",
       "4  2017-10-18 12:12:38  "
      ]
     },
     "execution_count": 19,
     "metadata": {},
     "output_type": "execute_result"
    }
   ],
   "source": [
    "df_prod.head()"
   ]
  },
  {
   "cell_type": "code",
   "execution_count": 8,
   "id": "98a8da68",
   "metadata": {},
   "outputs": [
    {
     "data": {
      "text/html": [
       "<div>\n",
       "<style scoped>\n",
       "    .dataframe tbody tr th:only-of-type {\n",
       "        vertical-align: middle;\n",
       "    }\n",
       "\n",
       "    .dataframe tbody tr th {\n",
       "        vertical-align: top;\n",
       "    }\n",
       "\n",
       "    .dataframe thead th {\n",
       "        text-align: right;\n",
       "    }\n",
       "</style>\n",
       "<table border=\"1\" class=\"dataframe\">\n",
       "  <thead>\n",
       "    <tr style=\"text-align: right;\">\n",
       "      <th></th>\n",
       "      <th>txnno</th>\n",
       "      <th>txndate</th>\n",
       "      <th>custno</th>\n",
       "      <th>amount</th>\n",
       "      <th>productno</th>\n",
       "      <th>spendby</th>\n",
       "    </tr>\n",
       "  </thead>\n",
       "  <tbody>\n",
       "    <tr>\n",
       "      <th>0</th>\n",
       "      <td>1</td>\n",
       "      <td>2017-10-18 12:31:45</td>\n",
       "      <td>923</td>\n",
       "      <td>2559</td>\n",
       "      <td>376</td>\n",
       "      <td>Card</td>\n",
       "    </tr>\n",
       "    <tr>\n",
       "      <th>1</th>\n",
       "      <td>2</td>\n",
       "      <td>2017-10-18 12:31:45</td>\n",
       "      <td>219</td>\n",
       "      <td>1706</td>\n",
       "      <td>151</td>\n",
       "      <td>Card</td>\n",
       "    </tr>\n",
       "    <tr>\n",
       "      <th>2</th>\n",
       "      <td>3</td>\n",
       "      <td>2017-10-18 12:31:45</td>\n",
       "      <td>927</td>\n",
       "      <td>3462</td>\n",
       "      <td>707</td>\n",
       "      <td>Cash</td>\n",
       "    </tr>\n",
       "    <tr>\n",
       "      <th>3</th>\n",
       "      <td>4</td>\n",
       "      <td>2017-10-18 12:31:45</td>\n",
       "      <td>806</td>\n",
       "      <td>865</td>\n",
       "      <td>539</td>\n",
       "      <td>Card</td>\n",
       "    </tr>\n",
       "    <tr>\n",
       "      <th>4</th>\n",
       "      <td>5</td>\n",
       "      <td>2017-10-18 12:31:45</td>\n",
       "      <td>958</td>\n",
       "      <td>2494</td>\n",
       "      <td>25</td>\n",
       "      <td>Card</td>\n",
       "    </tr>\n",
       "  </tbody>\n",
       "</table>\n",
       "</div>"
      ],
      "text/plain": [
       "   txnno              txndate  custno  amount  productno spendby\n",
       "0      1  2017-10-18 12:31:45     923    2559        376    Card\n",
       "1      2  2017-10-18 12:31:45     219    1706        151    Card\n",
       "2      3  2017-10-18 12:31:45     927    3462        707    Cash\n",
       "3      4  2017-10-18 12:31:45     806     865        539    Card\n",
       "4      5  2017-10-18 12:31:45     958    2494         25    Card"
      ]
     },
     "execution_count": 8,
     "metadata": {},
     "output_type": "execute_result"
    }
   ],
   "source": [
    "df_tran.head()"
   ]
  },
  {
   "cell_type": "markdown",
   "id": "559cd0af",
   "metadata": {},
   "source": [
    "### Usecase-2 Display only those customers from CSV_s1, who purchased more than 3 products"
   ]
  },
  {
   "cell_type": "code",
   "execution_count": 19,
   "id": "c669a254",
   "metadata": {},
   "outputs": [
    {
     "data": {
      "text/plain": [
       "array([326, 167, 753, 828,   4, 578, 558, 237,  86, 537, 187, 241, 331,\n",
       "       735, 391, 356, 321, 709, 989], dtype=int64)"
      ]
     },
     "execution_count": 19,
     "metadata": {},
     "output_type": "execute_result"
    }
   ],
   "source": [
    "df_tran.groupby('custno').filter(lambda df_tran:df_tran['custno'].count()>3)['custno'].unique()\n"
   ]
  },
  {
   "cell_type": "markdown",
   "id": "fc766422",
   "metadata": {},
   "source": [
    "### OR .count().sort_value(prodno,asending = false) \n",
    "df[df[prodno]>3"
   ]
  },
  {
   "cell_type": "markdown",
   "id": "7c82b332",
   "metadata": {},
   "source": [
    "### OR df_trans.groupby('custno').filter()(lambda trans_csv['custno'].count(>3).unique())"
   ]
  },
  {
   "cell_type": "markdown",
   "id": "3a739838",
   "metadata": {},
   "source": [
    "### Usecase-3 Display top 5 most demanded products from CSV_s1"
   ]
  },
  {
   "cell_type": "code",
   "execution_count": 26,
   "id": "8a42833e",
   "metadata": {},
   "outputs": [],
   "source": [
    "df1 = df_tran.groupby('productno').count().sort_values('txnno',ascending = False).head()"
   ]
  },
  {
   "cell_type": "markdown",
   "id": "00638d14",
   "metadata": {},
   "source": [
    "### OR df_tran['production'].value_counts().head()"
   ]
  },
  {
   "cell_type": "code",
   "execution_count": 27,
   "id": "7f6c5236",
   "metadata": {},
   "outputs": [
    {
     "data": {
      "text/html": [
       "<div>\n",
       "<style scoped>\n",
       "    .dataframe tbody tr th:only-of-type {\n",
       "        vertical-align: middle;\n",
       "    }\n",
       "\n",
       "    .dataframe tbody tr th {\n",
       "        vertical-align: top;\n",
       "    }\n",
       "\n",
       "    .dataframe thead th {\n",
       "        text-align: right;\n",
       "    }\n",
       "</style>\n",
       "<table border=\"1\" class=\"dataframe\">\n",
       "  <thead>\n",
       "    <tr style=\"text-align: right;\">\n",
       "      <th></th>\n",
       "      <th>txnno</th>\n",
       "      <th>txndate</th>\n",
       "      <th>custno</th>\n",
       "      <th>amount</th>\n",
       "      <th>spendby</th>\n",
       "    </tr>\n",
       "    <tr>\n",
       "      <th>productno</th>\n",
       "      <th></th>\n",
       "      <th></th>\n",
       "      <th></th>\n",
       "      <th></th>\n",
       "      <th></th>\n",
       "    </tr>\n",
       "  </thead>\n",
       "  <tbody>\n",
       "    <tr>\n",
       "      <th>82</th>\n",
       "      <td>5</td>\n",
       "      <td>5</td>\n",
       "      <td>5</td>\n",
       "      <td>5</td>\n",
       "      <td>5</td>\n",
       "    </tr>\n",
       "    <tr>\n",
       "      <th>768</th>\n",
       "      <td>5</td>\n",
       "      <td>5</td>\n",
       "      <td>5</td>\n",
       "      <td>5</td>\n",
       "      <td>5</td>\n",
       "    </tr>\n",
       "    <tr>\n",
       "      <th>900</th>\n",
       "      <td>5</td>\n",
       "      <td>5</td>\n",
       "      <td>5</td>\n",
       "      <td>5</td>\n",
       "      <td>5</td>\n",
       "    </tr>\n",
       "    <tr>\n",
       "      <th>427</th>\n",
       "      <td>5</td>\n",
       "      <td>5</td>\n",
       "      <td>5</td>\n",
       "      <td>5</td>\n",
       "      <td>5</td>\n",
       "    </tr>\n",
       "    <tr>\n",
       "      <th>233</th>\n",
       "      <td>4</td>\n",
       "      <td>4</td>\n",
       "      <td>4</td>\n",
       "      <td>4</td>\n",
       "      <td>4</td>\n",
       "    </tr>\n",
       "  </tbody>\n",
       "</table>\n",
       "</div>"
      ],
      "text/plain": [
       "           txnno  txndate  custno  amount  spendby\n",
       "productno                                         \n",
       "82             5        5       5       5        5\n",
       "768            5        5       5       5        5\n",
       "900            5        5       5       5        5\n",
       "427            5        5       5       5        5\n",
       "233            4        4       4       4        4"
      ]
     },
     "execution_count": 27,
     "metadata": {},
     "output_type": "execute_result"
    }
   ],
   "source": [
    "df1"
   ]
  },
  {
   "cell_type": "markdown",
   "id": "5bf23e3f",
   "metadata": {},
   "source": [
    "### Usecase-4 Display top 5 transactions amount from CSV_s1"
   ]
  },
  {
   "cell_type": "code",
   "execution_count": 30,
   "id": "055aa9f4",
   "metadata": {},
   "outputs": [],
   "source": [
    "df2 = df_tran.groupby('amount').max().sort_values('amount',ascending = False).head()"
   ]
  },
  {
   "cell_type": "markdown",
   "id": "6b04064e",
   "metadata": {},
   "source": [
    "### OR by using sort_values ('amount',ascendinf = False).head() or nlarge"
   ]
  },
  {
   "cell_type": "code",
   "execution_count": 31,
   "id": "04d1ec0d",
   "metadata": {},
   "outputs": [
    {
     "data": {
      "text/html": [
       "<div>\n",
       "<style scoped>\n",
       "    .dataframe tbody tr th:only-of-type {\n",
       "        vertical-align: middle;\n",
       "    }\n",
       "\n",
       "    .dataframe tbody tr th {\n",
       "        vertical-align: top;\n",
       "    }\n",
       "\n",
       "    .dataframe thead th {\n",
       "        text-align: right;\n",
       "    }\n",
       "</style>\n",
       "<table border=\"1\" class=\"dataframe\">\n",
       "  <thead>\n",
       "    <tr style=\"text-align: right;\">\n",
       "      <th></th>\n",
       "      <th>txnno</th>\n",
       "      <th>txndate</th>\n",
       "      <th>custno</th>\n",
       "      <th>productno</th>\n",
       "      <th>spendby</th>\n",
       "    </tr>\n",
       "    <tr>\n",
       "      <th>amount</th>\n",
       "      <th></th>\n",
       "      <th></th>\n",
       "      <th></th>\n",
       "      <th></th>\n",
       "      <th></th>\n",
       "    </tr>\n",
       "  </thead>\n",
       "  <tbody>\n",
       "    <tr>\n",
       "      <th>4996</th>\n",
       "      <td>557</td>\n",
       "      <td>2017-10-18 12:31:46</td>\n",
       "      <td>670</td>\n",
       "      <td>509</td>\n",
       "      <td>Card</td>\n",
       "    </tr>\n",
       "    <tr>\n",
       "      <th>4992</th>\n",
       "      <td>306</td>\n",
       "      <td>2017-10-18 12:31:46</td>\n",
       "      <td>448</td>\n",
       "      <td>427</td>\n",
       "      <td>Cash</td>\n",
       "    </tr>\n",
       "    <tr>\n",
       "      <th>4981</th>\n",
       "      <td>575</td>\n",
       "      <td>2017-10-18 12:31:46</td>\n",
       "      <td>305</td>\n",
       "      <td>549</td>\n",
       "      <td>Card</td>\n",
       "    </tr>\n",
       "    <tr>\n",
       "      <th>4980</th>\n",
       "      <td>532</td>\n",
       "      <td>2017-10-18 12:31:46</td>\n",
       "      <td>230</td>\n",
       "      <td>658</td>\n",
       "      <td>Card</td>\n",
       "    </tr>\n",
       "    <tr>\n",
       "      <th>4966</th>\n",
       "      <td>233</td>\n",
       "      <td>2017-10-18 12:31:45</td>\n",
       "      <td>287</td>\n",
       "      <td>685</td>\n",
       "      <td>Card</td>\n",
       "    </tr>\n",
       "  </tbody>\n",
       "</table>\n",
       "</div>"
      ],
      "text/plain": [
       "        txnno              txndate  custno  productno spendby\n",
       "amount                                                       \n",
       "4996      557  2017-10-18 12:31:46     670        509    Card\n",
       "4992      306  2017-10-18 12:31:46     448        427    Cash\n",
       "4981      575  2017-10-18 12:31:46     305        549    Card\n",
       "4980      532  2017-10-18 12:31:46     230        658    Card\n",
       "4966      233  2017-10-18 12:31:45     287        685    Card"
      ]
     },
     "execution_count": 31,
     "metadata": {},
     "output_type": "execute_result"
    }
   ],
   "source": [
    "df2"
   ]
  },
  {
   "cell_type": "markdown",
   "id": "389cab7d",
   "metadata": {},
   "source": [
    "### Usecase-5 Display distinct professions from CSV_s1"
   ]
  },
  {
   "cell_type": "code",
   "execution_count": 32,
   "id": "0a78a2d3",
   "metadata": {},
   "outputs": [],
   "source": [
    "df3 = df_cust['profession'].unique()"
   ]
  },
  {
   "cell_type": "code",
   "execution_count": 33,
   "id": "b4cb42aa",
   "metadata": {},
   "outputs": [
    {
     "data": {
      "text/plain": [
       "array(['B', 'S'], dtype=object)"
      ]
     },
     "execution_count": 33,
     "metadata": {},
     "output_type": "execute_result"
    }
   ],
   "source": [
    "df3"
   ]
  },
  {
   "cell_type": "markdown",
   "id": "104ab129",
   "metadata": {},
   "source": [
    "### Usecase-6 Display highest age in CSV_s1 customer’s dataset"
   ]
  },
  {
   "cell_type": "code",
   "execution_count": 34,
   "id": "92da2080",
   "metadata": {},
   "outputs": [],
   "source": [
    "df4 = df_cust['age'].max()"
   ]
  },
  {
   "cell_type": "code",
   "execution_count": 38,
   "id": "9e74f7dc",
   "metadata": {},
   "outputs": [
    {
     "data": {
      "text/plain": [
       "64"
      ]
     },
     "execution_count": 38,
     "metadata": {},
     "output_type": "execute_result"
    }
   ],
   "source": [
    "df4"
   ]
  }
 ],
 "metadata": {
  "kernelspec": {
   "display_name": "Python 3 (ipykernel)",
   "language": "python",
   "name": "python3"
  },
  "language_info": {
   "codemirror_mode": {
    "name": "ipython",
    "version": 3
   },
   "file_extension": ".py",
   "mimetype": "text/x-python",
   "name": "python",
   "nbconvert_exporter": "python",
   "pygments_lexer": "ipython3",
   "version": "3.9.13"
  }
 },
 "nbformat": 4,
 "nbformat_minor": 5
}
